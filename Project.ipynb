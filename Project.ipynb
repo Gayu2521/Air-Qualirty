{
  "nbformat": 4,
  "nbformat_minor": 0,
  "metadata": {
    "colab": {
      "provenance": [],
      "authorship_tag": "ABX9TyOk1hDckqHl/YXWbP7c2/d2",
      "include_colab_link": true
    },
    "kernelspec": {
      "name": "python3",
      "display_name": "Python 3"
    },
    "language_info": {
      "name": "python"
    }
  },
  "cells": [
    {
      "cell_type": "markdown",
      "metadata": {
        "id": "view-in-github",
        "colab_type": "text"
      },
      "source": [
        "<a href=\"https://colab.research.google.com/github/Gayu2521/Air-Qualirty/blob/main/Project.ipynb\" target=\"_parent\"><img src=\"https://colab.research.google.com/assets/colab-badge.svg\" alt=\"Open In Colab\"/></a>"
      ]
    },
    {
      "cell_type": "code",
      "execution_count": null,
      "metadata": {
        "id": "qLAOwjeHG3NE"
      },
      "outputs": [],
      "source": [
        "import pandas as pd\n",
        "from sklearn.model_selection import train_test_split\n",
        "from sklearn.linear_model import LinearRegression\n",
        "from sklearn.metrics import mean_squared_error\n",
        "import matplotlib.pyplot as plt"
      ]
    },
    {
      "cell_type": "markdown",
      "source": [
        "Loading the dataset"
      ],
      "metadata": {
        "id": "B6ORfWehIFma"
      }
    },
    {
      "cell_type": "code",
      "source": [
        "from google.colab import files\n",
        "uploaded = files.upload()\n",
        "df = pd.read_csv(\"Myproject.csv\",encoding='ISO-8859-1')\n",
        "print(df)"
      ],
      "metadata": {
        "colab": {
          "base_uri": "https://localhost:8080/",
          "height": 524
        },
        "id": "32dIsidlIEbC",
        "outputId": "4137a6db-8d87-4b4f-f71b-7beb13e3e3fc"
      },
      "execution_count": null,
      "outputs": [
        {
          "output_type": "display_data",
          "data": {
            "text/plain": [
              "<IPython.core.display.HTML object>"
            ],
            "text/html": [
              "\n",
              "     <input type=\"file\" id=\"files-d05d4ae2-bdcb-4a2a-8dbb-fad284365707\" name=\"files[]\" multiple disabled\n",
              "        style=\"border:none\" />\n",
              "     <output id=\"result-d05d4ae2-bdcb-4a2a-8dbb-fad284365707\">\n",
              "      Upload widget is only available when the cell has been executed in the\n",
              "      current browser session. Please rerun this cell to enable.\n",
              "      </output>\n",
              "      <script>// Copyright 2017 Google LLC\n",
              "//\n",
              "// Licensed under the Apache License, Version 2.0 (the \"License\");\n",
              "// you may not use this file except in compliance with the License.\n",
              "// You may obtain a copy of the License at\n",
              "//\n",
              "//      http://www.apache.org/licenses/LICENSE-2.0\n",
              "//\n",
              "// Unless required by applicable law or agreed to in writing, software\n",
              "// distributed under the License is distributed on an \"AS IS\" BASIS,\n",
              "// WITHOUT WARRANTIES OR CONDITIONS OF ANY KIND, either express or implied.\n",
              "// See the License for the specific language governing permissions and\n",
              "// limitations under the License.\n",
              "\n",
              "/**\n",
              " * @fileoverview Helpers for google.colab Python module.\n",
              " */\n",
              "(function(scope) {\n",
              "function span(text, styleAttributes = {}) {\n",
              "  const element = document.createElement('span');\n",
              "  element.textContent = text;\n",
              "  for (const key of Object.keys(styleAttributes)) {\n",
              "    element.style[key] = styleAttributes[key];\n",
              "  }\n",
              "  return element;\n",
              "}\n",
              "\n",
              "// Max number of bytes which will be uploaded at a time.\n",
              "const MAX_PAYLOAD_SIZE = 100 * 1024;\n",
              "\n",
              "function _uploadFiles(inputId, outputId) {\n",
              "  const steps = uploadFilesStep(inputId, outputId);\n",
              "  const outputElement = document.getElementById(outputId);\n",
              "  // Cache steps on the outputElement to make it available for the next call\n",
              "  // to uploadFilesContinue from Python.\n",
              "  outputElement.steps = steps;\n",
              "\n",
              "  return _uploadFilesContinue(outputId);\n",
              "}\n",
              "\n",
              "// This is roughly an async generator (not supported in the browser yet),\n",
              "// where there are multiple asynchronous steps and the Python side is going\n",
              "// to poll for completion of each step.\n",
              "// This uses a Promise to block the python side on completion of each step,\n",
              "// then passes the result of the previous step as the input to the next step.\n",
              "function _uploadFilesContinue(outputId) {\n",
              "  const outputElement = document.getElementById(outputId);\n",
              "  const steps = outputElement.steps;\n",
              "\n",
              "  const next = steps.next(outputElement.lastPromiseValue);\n",
              "  return Promise.resolve(next.value.promise).then((value) => {\n",
              "    // Cache the last promise value to make it available to the next\n",
              "    // step of the generator.\n",
              "    outputElement.lastPromiseValue = value;\n",
              "    return next.value.response;\n",
              "  });\n",
              "}\n",
              "\n",
              "/**\n",
              " * Generator function which is called between each async step of the upload\n",
              " * process.\n",
              " * @param {string} inputId Element ID of the input file picker element.\n",
              " * @param {string} outputId Element ID of the output display.\n",
              " * @return {!Iterable<!Object>} Iterable of next steps.\n",
              " */\n",
              "function* uploadFilesStep(inputId, outputId) {\n",
              "  const inputElement = document.getElementById(inputId);\n",
              "  inputElement.disabled = false;\n",
              "\n",
              "  const outputElement = document.getElementById(outputId);\n",
              "  outputElement.innerHTML = '';\n",
              "\n",
              "  const pickedPromise = new Promise((resolve) => {\n",
              "    inputElement.addEventListener('change', (e) => {\n",
              "      resolve(e.target.files);\n",
              "    });\n",
              "  });\n",
              "\n",
              "  const cancel = document.createElement('button');\n",
              "  inputElement.parentElement.appendChild(cancel);\n",
              "  cancel.textContent = 'Cancel upload';\n",
              "  const cancelPromise = new Promise((resolve) => {\n",
              "    cancel.onclick = () => {\n",
              "      resolve(null);\n",
              "    };\n",
              "  });\n",
              "\n",
              "  // Wait for the user to pick the files.\n",
              "  const files = yield {\n",
              "    promise: Promise.race([pickedPromise, cancelPromise]),\n",
              "    response: {\n",
              "      action: 'starting',\n",
              "    }\n",
              "  };\n",
              "\n",
              "  cancel.remove();\n",
              "\n",
              "  // Disable the input element since further picks are not allowed.\n",
              "  inputElement.disabled = true;\n",
              "\n",
              "  if (!files) {\n",
              "    return {\n",
              "      response: {\n",
              "        action: 'complete',\n",
              "      }\n",
              "    };\n",
              "  }\n",
              "\n",
              "  for (const file of files) {\n",
              "    const li = document.createElement('li');\n",
              "    li.append(span(file.name, {fontWeight: 'bold'}));\n",
              "    li.append(span(\n",
              "        `(${file.type || 'n/a'}) - ${file.size} bytes, ` +\n",
              "        `last modified: ${\n",
              "            file.lastModifiedDate ? file.lastModifiedDate.toLocaleDateString() :\n",
              "                                    'n/a'} - `));\n",
              "    const percent = span('0% done');\n",
              "    li.appendChild(percent);\n",
              "\n",
              "    outputElement.appendChild(li);\n",
              "\n",
              "    const fileDataPromise = new Promise((resolve) => {\n",
              "      const reader = new FileReader();\n",
              "      reader.onload = (e) => {\n",
              "        resolve(e.target.result);\n",
              "      };\n",
              "      reader.readAsArrayBuffer(file);\n",
              "    });\n",
              "    // Wait for the data to be ready.\n",
              "    let fileData = yield {\n",
              "      promise: fileDataPromise,\n",
              "      response: {\n",
              "        action: 'continue',\n",
              "      }\n",
              "    };\n",
              "\n",
              "    // Use a chunked sending to avoid message size limits. See b/62115660.\n",
              "    let position = 0;\n",
              "    do {\n",
              "      const length = Math.min(fileData.byteLength - position, MAX_PAYLOAD_SIZE);\n",
              "      const chunk = new Uint8Array(fileData, position, length);\n",
              "      position += length;\n",
              "\n",
              "      const base64 = btoa(String.fromCharCode.apply(null, chunk));\n",
              "      yield {\n",
              "        response: {\n",
              "          action: 'append',\n",
              "          file: file.name,\n",
              "          data: base64,\n",
              "        },\n",
              "      };\n",
              "\n",
              "      let percentDone = fileData.byteLength === 0 ?\n",
              "          100 :\n",
              "          Math.round((position / fileData.byteLength) * 100);\n",
              "      percent.textContent = `${percentDone}% done`;\n",
              "\n",
              "    } while (position < fileData.byteLength);\n",
              "  }\n",
              "\n",
              "  // All done.\n",
              "  yield {\n",
              "    response: {\n",
              "      action: 'complete',\n",
              "    }\n",
              "  };\n",
              "}\n",
              "\n",
              "scope.google = scope.google || {};\n",
              "scope.google.colab = scope.google.colab || {};\n",
              "scope.google.colab._files = {\n",
              "  _uploadFiles,\n",
              "  _uploadFilesContinue,\n",
              "};\n",
              "})(self);\n",
              "</script> "
            ]
          },
          "metadata": {}
        },
        {
          "output_type": "stream",
          "name": "stdout",
          "text": [
            "Saving Myproject.csv to Myproject (1).csv\n",
            "              Timestamp  PM2.5   PM10  Temperature  Humidity  Wind Speed (m/s)\n",
            "0   2025-05-01 00:00:00   45.6   78.2         30.1      65.4               2.5\n",
            "1   2025-05-01 01:00:00   48.1   81.5         29.8      67.1               2.1\n",
            "2   2025-05-01 02:00:00   42.3   75.9         29.5      68.3               1.8\n",
            "3   2025-05-01 03:00:00   39.7   72.1         29.2      69.5               1.5\n",
            "4   2025-05-01 04:00:00   41.2   74.8         28.9      70.2               1.7\n",
            "5   2025-05-01 05:00:00   46.5   79.3         28.7      71.0               2.0\n",
            "6   2025-05-01 06:00:00   52.0   85.6         28.5      71.8               2.3\n",
            "7   2025-05-01 07:00:00   58.3   92.1         28.8      70.5               2.8\n",
            "8   2025-05-01 08:00:00   65.7  101.2         29.3      68.9               3.1\n",
            "9   2025-05-01 09:00:00   72.9  110.5         29.9      67.5               3.5\n",
            "10  2025-05-01 10:00:00   78.4  118.9         30.5      66.2               3.8\n",
            "11  2025-05-01 11:00:00   82.1  125.3         31.0      65.1               4.0\n",
            "12  2025-05-01 12:00:00   85.5  129.8         31.5      64.0               3.7\n",
            "13  2025-05-01 13:00:00   83.2  127.1         31.8      63.2               3.4\n",
            "14  2025-05-01 14:00:00   79.9  122.5         32.0      62.5               3.0\n",
            "15  2025-05-01 15:00:00   75.6  117.8         31.9      63.0               2.7\n",
            "16  2025-05-01 16:00:00   70.3  111.5         31.5      64.1               2.4\n",
            "17  2025-05-01 17:00:00   64.8  105.2         31.0      65.5               2.2\n",
            "18  2025-05-01 18:00:00   59.1   98.7         30.5      67.0               2.0\n",
            "19  2025-05-01 19:00:00   53.5   91.9         30.0      68.6               1.8\n",
            "20  2025-05-01 20:00:00   49.2   85.3         29.7      69.8               1.6\n",
            "21  2025-05-01 21:00:00   46.8   80.1         29.4      70.5               1.5\n",
            "22  2025-05-01 22:00:00   44.1   77.5         29.1      71.2               1.6\n",
            "23  2025-05-01 23:00:00   43.5   76.9         28.9      71.8               1.7\n",
            "24  2025-05-02 00:00:00   47.2   80.5         28.7      72.5               1.9\n"
          ]
        }
      ]
    },
    {
      "cell_type": "markdown",
      "source": [
        "Data Processing"
      ],
      "metadata": {
        "id": "S6MdhbYOMMwC"
      }
    },
    {
      "cell_type": "code",
      "source": [
        "data = pd.read_csv('Myproject.csv')\n",
        "data['Timestamp'] = pd.to_datetime(data['Timestamp'])\n",
        "data.set_index('Timestamp', inplace=True)\n",
        "#Handle missing values\n",
        "data.fillna(data.mean(), inplace=True)"
      ],
      "metadata": {
        "id": "0j6KdDJFLu97"
      },
      "execution_count": null,
      "outputs": []
    },
    {
      "cell_type": "markdown",
      "source": [
        "Feature Engineering"
      ],
      "metadata": {
        "id": "sYbPxEGxMbUS"
      }
    },
    {
      "cell_type": "code",
      "source": [
        "data['Hour'] = data.index.hour\n",
        "data['DayOfWeek'] = data.index.dayofweek\n"
      ],
      "metadata": {
        "id": "s3BptlWuLhtr"
      },
      "execution_count": null,
      "outputs": []
    },
    {
      "cell_type": "markdown",
      "source": [
        "Define features (X) and target (y)"
      ],
      "metadata": {
        "id": "7y1Uzv6RMsLy"
      }
    },
    {
      "cell_type": "code",
      "source": [
        "X = data[['PM10', 'Temperature', 'Humidity', 'Wind Speed (m/s)', 'Hour', 'DayOfWeek']]\n",
        "y = data['PM2.5']\n",
        "#Split data into training and testing sets\n",
        "X_train, X_test, y_train, y_test = train_test_split(X, y, test_size=0.2, random_state=42)\n"
      ],
      "metadata": {
        "id": "yRkPeLRYMx0C"
      },
      "execution_count": null,
      "outputs": []
    },
    {
      "cell_type": "markdown",
      "source": [
        "Choose and train a machine learning model"
      ],
      "metadata": {
        "id": "2lfX8LcqNEwq"
      }
    },
    {
      "cell_type": "code",
      "source": [
        "model = LinearRegression()\n",
        "model.fit(X_train, y_train)\n",
        "#Make predictions on the test set\n",
        "y_pred = model.predict(X_test)\n",
        "#Evaluate the model\n",
        "mse = mean_squared_error(y_test, y_pred)\n",
        "print(f'Mean Squared Error: {mse}')\n"
      ],
      "metadata": {
        "colab": {
          "base_uri": "https://localhost:8080/"
        },
        "id": "fiZ7unyFNJNi",
        "outputId": "d44f8836-fef3-495f-a4a4-edac0847c9e0"
      },
      "execution_count": null,
      "outputs": [
        {
          "output_type": "stream",
          "name": "stdout",
          "text": [
            "Mean Squared Error: 1.3767969673886986\n"
          ]
        }
      ]
    },
    {
      "cell_type": "markdown",
      "source": [
        "Visualize the results"
      ],
      "metadata": {
        "id": "gfvo2qIVNpWK"
      }
    },
    {
      "cell_type": "code",
      "source": [
        "plt.figure(figsize=(10, 6))\n",
        "plt.scatter(y_test, y_pred)\n",
        "plt.xlabel('Actual PM2.5')\n",
        "plt.ylabel('Predicted PM2.5')\n",
        "plt.title('Actual vs. Predicted PM2.5 (Linear Regression)')\n",
        "plt.plot([y_test.min(), y_test.max()], [y_test.min(), y_test.max()], 'k--', lw=2) # Diagonal line for perfect prediction\n",
        "plt.show()"
      ],
      "metadata": {
        "colab": {
          "base_uri": "https://localhost:8080/",
          "height": 564
        },
        "id": "AHIarW47NlWi",
        "outputId": "18802595-15c8-4cd7-d5d5-03a857271616"
      },
      "execution_count": null,
      "outputs": [
        {
          "output_type": "display_data",
          "data": {
            "text/plain": [
              "<Figure size 1000x600 with 1 Axes>"
            ],
            "image/png": "[encoded data removed]"
          },
          "metadata": {}
        }
      ]
    },
    {
      "cell_type": "markdown",
      "source": [
        "Making future predictions"
      ],
      "metadata": {
        "id": "dhJxLyfTNxBS"
      }
    },
    {
      "cell_type": "code",
      "source": [
        "last_data = data.iloc[[-1]] # Get the last row\n",
        "next_timestamp = data.index[-1] + pd.Timedelta(hours=1)\n",
        "next_features = pd.DataFrame({\n",
        "    'PM10': [last_data['PM10'].values[0]],\n",
        "    'Temperature': [last_data['Temperature'].values[0]],\n",
        "    'Humidity': [last_data['Humidity'].values[0]],\n",
        "    'Wind Speed (m/s)': [last_data['Wind Speed (m/s)'].values[0]],\n",
        "    'Hour': [next_timestamp.hour],\n",
        "    'DayOfWeek': [next_timestamp.dayofweek]\n",
        "}, index=[next_timestamp])\n",
        "\n",
        "predicted_pm25_next_hour = model.predict(next_features)\n",
        "print(f'Predicted PM2.5 for {next_timestamp}: {predicted_pm25_next_hour[0]:.2f}')"
      ],
      "metadata": {
        "colab": {
          "base_uri": "https://localhost:8080/"
        },
        "id": "fhpNGRloNx_B",
        "outputId": "31e017c7-2698-4844-92cc-6c3190748594"
      },
      "execution_count": null,
      "outputs": [
        {
          "output_type": "stream",
          "name": "stdout",
          "text": [
            "Predicted PM2.5 for 2025-05-02 01:00:00: 47.28\n"
          ]
        }
      ]
    }
  ]
}